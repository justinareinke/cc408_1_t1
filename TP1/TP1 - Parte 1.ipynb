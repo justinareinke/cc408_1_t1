{
 "cells": [
  {
   "cell_type": "markdown",
   "metadata": {
    "collapsed": true,
    "id": "Dh8MkXaG-c9Y",
    "jupyter": {
     "outputs_hidden": true
    }
   },
   "source": [
    "# Ciencia de datos (CC408) - Primavera 2024\n",
    "\n",
    "## Trabajo Práctico 1 - Parte 1 "
   ]
  },
  {
   "cell_type": "markdown",
   "metadata": {
    "id": "RhBlm6mZ-c9e"
   },
   "source": [
    "### Reglas de formato y presentación\n",
    "- El trabajo debe estar debidamente documentado comentado (utilizando #) para que tanto los docentes como sus compañeros puedan comprender el código fácilmente.\n",
    "\n",
    "- El mismo debe ser completado en este Jupyter Notebook y entregado como tal, es decir en un archivo .ipynb\n"
   ]
  },
  {
   "cell_type": "markdown",
   "metadata": {
    "id": "ZEjGaa4U-c9g"
   },
   "source": [
    "### Fecha de entrega:\n",
    "Domingo 8 de septiembre a las 23:59hs"
   ]
  },
  {
   "cell_type": "markdown",
   "metadata": {
    "id": "N9TU2y7E-c9h"
   },
   "source": [
    "### Modalidad de entrega\n",
    "- Al finalizar el trabajo práctico deben hacer un último <i>commit</i> en su repositorio de GitHub llamado “Entrega final del tp”. \n",
    "- Asegurense de haber creado una carpeta llamada TP1. Este Jupyter Notebook y el correspondiente al TP1 - Parte 1 deben estar dentro de esa carpeta.\n",
    "- También deben enviar el link de su repositorio -para que pueda ser clonado y corregido- al siguiente email: ispiousas@udesa.edu.ar\n",
    "- La última versión en el repositorio es la que será evaluada. Por lo que es importante que: \n",
    "    - No envien el correo hasta no haber terminado y estar seguros de que han hecho el <i>commit y push</i> a la versión final que quieren entregar. Debido a que se pueden tomar hasta 3 días de extensión a lo largo del curso, no se corregirán sus tareas hasta no recibir el correo.\n",
    "    - No hagan nuevos <i>push</i> despues de haber entregado su versión final. Esto generaría confusión acerca de que versión es la que quieren que se les corrija. "
   ]
  },
  {
   "cell_type": "markdown",
   "metadata": {
    "id": "ZXbrPraa-c9i"
   },
   "source": [
    "#### Ejercicio 1\n",
    "Este ejercicio simplemente busca repasar lo que aprendimos sobre definición de variables. Definir dos variables con un nombre combinado (al menos dos palabras), una que se pueda crear y otra que tenga un nombre inaceptable (genera error). Explicar por qué ocurre el error."
   ]
  },
  {
   "cell_type": "code",
   "execution_count": 2,
   "metadata": {
    "id": "mb7PkXfN-c9j"
   },
   "outputs": [
    {
     "ename": "SyntaxError",
     "evalue": "invalid syntax (222172121.py, line 7)",
     "output_type": "error",
     "traceback": [
      "\u001b[0;36m  Cell \u001b[0;32mIn[2], line 7\u001b[0;36m\u001b[0m\n\u001b[0;31m    variable mal definida = \"hola\"\u001b[0m\n\u001b[0m             ^\u001b[0m\n\u001b[0;31mSyntaxError\u001b[0m\u001b[0;31m:\u001b[0m invalid syntax\n"
     ]
    }
   ],
   "source": [
    "# Caso A\n",
    "\n",
    "variable = \"hola\"\n",
    "\n",
    "# Caso B (acá debería saltar un error)\n",
    "#cuando definis uan variable no podes usar espacios, por eso tira error.\n",
    "variable mal definida = \"hola\""
   ]
  },
  {
   "cell_type": "markdown",
   "metadata": {},
   "source": [
    "#### Ejercicio 2\n",
    "Importar módulos. Usando el módulo math impriman la tangente de 1. ¿Cuál es el resultado?\n",
    "Hagan este cálculo de dos formas: primero importando el módulo math y usando la función correspondiente y luego solo importando la función específica que precisan para el cálculo."
   ]
  },
  {
   "cell_type": "code",
   "execution_count": 12,
   "metadata": {},
   "outputs": [
    {
     "name": "stdout",
     "output_type": "stream",
     "text": [
      "1.557407724654902\n",
      "1.557407724654902\n"
     ]
    }
   ],
   "source": [
    "# Caso A\n",
    "import math \n",
    "resultado_1 = math.tan(1)\n",
    "# Usamos la función tan del módulo math para calcular la tangente\n",
    "print(resultado_1)\n",
    "\n",
    "# Caso B\n",
    "\n",
    "from math import tan \n",
    " # Importamos solo la función tan del módulo math\n",
    "resultado_2 = tan(1)\n",
    "\n",
    "print(resultado_2)"
   ]
  },
  {
   "cell_type": "markdown",
   "metadata": {
    "id": "GlNh0fyv-c9l"
   },
   "source": [
    "#### Ejercicio 3 \n",
    "Este ejercicio trata sobre lograr el intercambio de valores entre dos variables utilizando una variable temporal para hacerlo. Las variables temporales y la sustitución de valores termina siendo útil en algunos loops. Los pasos a seguir son: (a) definir variables A y B (cuyos valores buscaremos invertir); (b) definir una variable temporal que resguarde el valor de B; (c) sustitución (asignar B igual a A y también A igual al valor original de B); (d) imprimir valores para verificar."
   ]
  },
  {
   "cell_type": "code",
   "execution_count": 13,
   "metadata": {
    "id": "uWalSYFC-c9m"
   },
   "outputs": [
    {
     "name": "stdout",
     "output_type": "stream",
     "text": [
      "2\n",
      "1\n"
     ]
    }
   ],
   "source": [
    "# a) Definimos variables A y B, \n",
    "a = 1\n",
    "b = 2\n",
    "\n",
    "# b) Definimos variable temporal \"tmp\" igual a B (la variable, no el valor)\n",
    "tmp = b\n",
    "\n",
    "# c) Ahora sustituimos variables: variable B igual a variable A (la variable, no el\n",
    "# valor) y viceversa.\n",
    "b = a    # ahora `b` tiene el valor de `a`\n",
    "a = tmp  # ahora `a` tiene el valor original de `b que esta almacenado en la variable temporal\n",
    "\n",
    "\n",
    "# d) verificamos resultados: imprimir variables A y B\n",
    "print(a)\n",
    "print(b)"
   ]
  },
  {
   "cell_type": "markdown",
   "metadata": {
    "id": "wXhAaRyN-c9p"
   },
   "source": [
    "#### Ejercicio 4\n",
    "En este ejercicio se busca poner en práctica el uso de range() en un for loop. \n",
    "\n",
    "Construir un for loop usando un range(). El range debe ser entre los valores que quieran (con una diferencia mínima de 15 entre start y stop), en incrementos de 3 unidades. Dentro del loop, implementar una sentencia condicional que imprima una leyenda indicando si el input es par o impar."
   ]
  },
  {
   "cell_type": "code",
   "execution_count": 60,
   "metadata": {
    "id": "_oE5sG0c-c9q",
    "scrolled": true
   },
   "outputs": [
    {
     "name": "stdout",
     "output_type": "stream",
     "text": [
      "El número 10 es par.\n",
      "El número 13 es impar.\n",
      "El número 16 es par.\n",
      "El número 19 es impar.\n",
      "El número 22 es par.\n",
      "El número 25 es impar.\n",
      "El número 28 es par.\n",
      "El número 31 es impar.\n",
      "El número 34 es par.\n",
      "El número 37 es impar.\n",
      "El número 40 es par.\n",
      "El número 43 es impar.\n",
      "El número 46 es par.\n",
      "El número 49 es impar.\n"
     ]
    }
   ],
   "source": [
    "# Resolver acá\n",
    "\n",
    "for i in range(10, 50, 3):\n",
    "    #condicional para verificar si el número es par o impar\n",
    "    if i % 2 == 0:\n",
    "        #si el numero es divisible por 2 se imprime lo siguiente: \n",
    "        print(f\"El número {i} es par.\")\n",
    "        #{i} se reemplaza por el valor de i\n",
    "    #f string --> permite incluir expresiones o variables dentro de la cadena de texto en tiempo de ejecucion\n",
    "\n",
    "\n",
    "    else:\n",
    "        #sino se imprime lo siguiente:\n",
    "        print(f\"El número {i} es impar.\")\n"
   ]
  },
  {
   "cell_type": "markdown",
   "metadata": {
    "id": "h3g5bXUB-c9u"
   },
   "source": [
    "#### Ejercicio 5\n",
    "Para practicar el uso de condiciones lógicas y la definición de funciones, construir una función con una sentencia condicional que verifique si un año es bisiesto o no. Para que un año sea bisiesto debe cumplir una de dos condiciones:\n",
    "\n",
    "(a) que sea divisible por 400; o\n",
    "\n",
    "(b) que sea divisible por 4 y no sea divisible por 100\n",
    "\n",
    "Notar que son dos condiciones, donde la segunda condición tiene dos componentes. Prueben la función con 3 valores para verificar que funcione."
   ]
  },
  {
   "cell_type": "code",
   "execution_count": 11,
   "metadata": {
    "id": "7_MnILdz-c9v",
    "scrolled": true
   },
   "outputs": [
    {
     "name": "stdout",
     "output_type": "stream",
     "text": [
      "       Año\n",
      "0        1\n",
      "1        2\n",
      "2        3\n",
      "3        4\n",
      "4        5\n",
      "...    ...\n",
      "2019  2020\n",
      "2020  2021\n",
      "2021  2022\n",
      "2022  2023\n",
      "2023  2024\n",
      "\n",
      "[2024 rows x 1 columns]\n"
     ]
    },
    {
     "name": "stdin",
     "output_type": "stream",
     "text": [
      "Introduce un año para ver si es bisiesto:  2002\n"
     ]
    },
    {
     "name": "stdout",
     "output_type": "stream",
     "text": [
      "El año 2002 no es bisiesto.\n"
     ]
    }
   ],
   "source": [
    "# Resolver acá\n",
    "\n",
    "#hacemos una función para determinar si es bisiesto con condicones lgoicas. \n",
    "#primero definimos la función\n",
    "\n",
    "def es_bisiesto(ano):\n",
    "    if (ano % 400 == 0) or (ano % 4 == 0 and ano % 100 != 0):\n",
    "        return True\n",
    "    else:\n",
    "        return False\n",
    "\n",
    "\n",
    "#creamos data frame con todos los años hasta 2024\n",
    "import pandas as pd\n",
    "\n",
    "# Creamos un DataFrame con todos los años desde el año 1 hasta el año 2024\n",
    "años = pd.DataFrame({'Año': range(1, 2025)})\n",
    "años\n",
    "\n",
    "# mostramos el dataframe\n",
    "print(años)\n",
    "\n",
    "# Ahora la aplicamos y lo guardamos en una nueva columna del dataframe \n",
    "años['bisiesto'] = años['Año'].apply(es_bisiesto)\n",
    "años\n",
    "\n",
    "#probar valores \n",
    "#print(es_bisiesto(2000))  # Debería ser True\n",
    "#print(es_bisiesto(1900))  # Debería ser False\n",
    "#print(es_bisiesto(2024))  # Debería ser True\n",
    "\n",
    "#opcion dos -- que el usuario ponga un año y le devuelve si es bisiesto o no es bisiesto\n",
    "# Pedimos al usuario que ingrese un año\n",
    "año_usuario = int(input(\"Introduce un año para ver si es bisiesto: \"))\n",
    "\n",
    "# Para determinar si es bisiesto llamas a la funcion que habias definido previamente \n",
    "if es_bisiesto(año_usuario):\n",
    "    print(f\"El año {año_usuario} es bisiesto.\")\n",
    "else:\n",
    "    print(f\"El año {año_usuario} no es bisiesto.\")\n"
   ]
  },
  {
   "cell_type": "markdown",
   "metadata": {
    "collapsed": true,
    "id": "P3a7bJkd-c9w",
    "jupyter": {
     "outputs_hidden": true
    }
   },
   "source": [
    "#### Ejercicio 6 \n",
    "Pongamos en práctica identificar el type() de cada variable. A continuación tenemos una lista con elementos de diferentes tipos. Construyan un for loop que itere sobre la lista e imprima un cartel indicando el tipo de dato u objeto que hay en cada caso."
   ]
  },
  {
   "cell_type": "code",
   "execution_count": 12,
   "metadata": {
    "id": "jDf4d_Wr-c9w"
   },
   "outputs": [],
   "source": [
    "mi_lista = [10, 34.5, 99999, 'abc', [1,2,3], ('ARG', 1810), {'pob': 45}, True]"
   ]
  },
  {
   "cell_type": "code",
   "execution_count": 23,
   "metadata": {
    "id": "SAJgEiNEFQAS"
   },
   "outputs": [
    {
     "name": "stdout",
     "output_type": "stream",
     "text": [
      "El elemento 10 es de tipo <class 'int'>.\n",
      "El elemento 34.5 es de tipo <class 'float'>.\n",
      "El elemento 99999 es de tipo <class 'int'>.\n",
      "El elemento abc es de tipo <class 'str'>.\n",
      "El elemento [1, 2, 3] es de tipo <class 'list'>.\n",
      "El elemento ('ARG', 1810) es de tipo <class 'tuple'>.\n",
      "El elemento {'pob': 45} es de tipo <class 'dict'>.\n",
      "El elemento True es de tipo <class 'bool'>.\n"
     ]
    }
   ],
   "source": [
    "# Resolver acá\n",
    "# Lista simple\n",
    "mi_lista = [10, 34.5, 99999, 'abc', [1,2,3], ('ARG', 1810), {'pob': 45}, True]\n",
    "\n",
    "#i representa cada elemento de la lista durante la iteración.\n",
    "for i in mi_lista:\n",
    "    print(f\"El elemento {i} es de tipo {type(i)}.\")\n",
    "     #imprime el valor del elemento y su tipo\n",
    "# La función 'type(i)' devuelve el tipo del elemento 'i'.\n",
    "# f-string: permite incluir el valor de 'i' y su tipo dentro de la cadena de texto.\n"
   ]
  },
  {
   "cell_type": "markdown",
   "metadata": {
    "id": "y1lncitl-c9x"
   },
   "source": [
    "#### Ejercicio 7\n",
    "Ahora definan ustedes una nueva lista, en la que los primeros cuatro elementos sean palabras (strings), el quinto elemento no sea string, y el sexto sea string. Construyan un for loop que corra por la lista y que imprima la palabra y la longitud de la misma. Que el loop contenga una sentencia condicional que imprima un cartel \"Elemento no es un string: < el elemento > | < class del elemento >\" para los casos dónde el elemento evaluado no sea string."
   ]
  },
  {
   "cell_type": "code",
   "execution_count": 47,
   "metadata": {
    "collapsed": true,
    "id": "bFOk9Os0-c9x",
    "jupyter": {
     "outputs_hidden": true
    }
   },
   "outputs": [
    {
     "name": "stdout",
     "output_type": "stream",
     "text": [
      "La palabra 'hola' tiene una longitud de 4\n",
      "La palabra 'chau' tiene una longitud de 4\n",
      "La palabra 'como' tiene una longitud de 4\n",
      "La palabra 'estas' tiene una longitud de 5\n",
      "Elemento no es un string: 1| <class 'int'>\n",
      "La palabra 'vela' tiene una longitud de 4\n"
     ]
    }
   ],
   "source": [
    "# Resolver acá\n",
    "\n",
    "nueva_lista = ['hola','chau','como','estas',1,'vela']\n",
    "\n",
    "for i in nueva_lista:\n",
    "    if type(i) == str:  #La condición logica se verifica si el tipo de dato es un string\n",
    "        print(f\"La palabra '{i}' tiene una longitud de {len(i)}\")  # creamos un for que va iterando y si es un string\n",
    "        #te calcula la longitud de la palabra con la función len(i) de cada elemento de la lista que sea string \n",
    "    else:\n",
    "        print(f\"Elemento no es un string: {i}| {type(i)}\")  #mensaje para los elementos que no son string"
   ]
  },
  {
   "cell_type": "markdown",
   "metadata": {},
   "source": [
    "#### Ejercicio 8"
   ]
  },
  {
   "cell_type": "markdown",
   "metadata": {},
   "source": [
    "Construyan una función llamada 'suma' que tome una cantidad variable de parámetros y devuelva el resultado de la suma."
   ]
  },
  {
   "cell_type": "code",
   "execution_count": 50,
   "metadata": {},
   "outputs": [
    {
     "data": {
      "text/plain": [
       "24"
      ]
     },
     "execution_count": 50,
     "metadata": {},
     "output_type": "execute_result"
    }
   ],
   "source": [
    "# Resolver acá\n",
    "\n",
    "def suma(*args):\n",
    "    #*args en la definición de la función permite aceptar un número variable de argumentos \n",
    "    #(* - permite lista variable de argumetnos)\n",
    "    # Usamos la función sum() para sumar todos los argumentos recibidos\n",
    "    return sum(args)\n",
    "    #args dentro de la función se refiere a la tupla que contiene todos los argumentos pasados.\n",
    "\n",
    "suma(2,5,2,3,4,4,4)"
   ]
  },
  {
   "cell_type": "markdown",
   "metadata": {
    "id": "PUpxDz72-c9x"
   },
   "source": [
    "#### Ejercicio 9\n",
    "Argentina tiene una representación legislativa proporcional en la cual la cantidad de diputados se debería ajustar según el tamaño de población de cada provincia. Otra característica de la representación legislativa del país es que hay una cantidad mínima de diputados por provincia (5). Esto genera un desbalance en la cantidad de ciudadanos por cada representante en el Congreso entre provincias.\n",
    "\n",
    "A continuación preparamos algunos ejemplos, dividiendo la población de cada provincia (según estimación para el 2022) por la cantidad de representantes en el Congreso para esa misma jurisdicción. También armamos el equivalente para el total país y una lista con los valores provinciales.\n",
    "\n",
    "En este ejercicio les pedimos que construyan un for loop que itere sobre el diccionario definido y compare cada valor provincial contra el valor de proporcionalidad directa (la variable argentina). El loop debe imprimir una leyenda que indique si la provincia está sobrerepresentada, subrepresentada o con representación proporcional. Además, queremos que el mismo loop compare los valores de las provincias sobrerepresentadas y que guarde el valor de la provincia con mayor sobrerepresentación. Luego del loop impriman este valor así podemos ver que haya funcionado.\n",
    "\n",
    "Fuente para población: https://es.wikipedia.org/wiki/Demograf%C3%ADa_de_Argentina\n",
    "\n",
    "Fuente para representantes: https://es.wikipedia.org/wiki/C%C3%A1mara_de_Diputados_de_la_Naci%C3%B3n_Argentina"
   ]
  },
  {
   "cell_type": "code",
   "execution_count": 55,
   "metadata": {
    "id": "hd8Z5AHs-c9y"
   },
   "outputs": [],
   "source": [
    "# Valor de referencia: proporcionalidad\n",
    "argentina = 46044703 / 257\n",
    "\n",
    "# Creamos variables para una selección de jurisdicciones\n",
    "cordoba = 3978984 / 18\n",
    "santa_fe = 3556522 / 19\n",
    "mendoza = 2014533 / 10\n",
    "buenos_aires = 17569053 / 70\n",
    "entre_rios =  1426426 / 9\n",
    "santa_cruz = 333473 / 5\n",
    "formosa = 606041 / 5\n",
    "\n",
    "# Definimos el diccionario para iterar\n",
    "dict_provincias = {\n",
    "    \"Córdoba\": cordoba,\n",
    "    \"Santa Fe\": santa_fe,\n",
    "    \"Mendoza\": mendoza,\n",
    "    \"Buenos Aires\": buenos_aires,\n",
    "    \"Entre Ríos\": entre_rios,\n",
    "    \"Santa Cruz\": santa_cruz,\n",
    "    \"Formosa\": formosa\n",
    "}\n",
    "\n"
   ]
  },
  {
   "cell_type": "code",
   "execution_count": 56,
   "metadata": {
    "id": "fsEHnxiY-c9y",
    "scrolled": true
   },
   "outputs": [
    {
     "name": "stdout",
     "output_type": "stream",
     "text": [
      "Córdoba está sobrerepresentada.\n",
      "Santa Fe está sobrerepresentada.\n",
      "Mendoza está sobrerepresentada.\n",
      "Buenos Aires está sobrerepresentada.\n",
      "Entre Ríos está subrepresentada.\n",
      "Santa Cruz está subrepresentada.\n",
      "Formosa está subrepresentada.\n",
      "La provincia con mayor sobrerepresentación es Buenos Aires con un valor de 250986.4714285714.\n"
     ]
    }
   ],
   "source": [
    "# Resolver acá\n",
    "\n",
    "#la variable argentina \n",
    "#es la población total dividida por el número total de representantes\n",
    "#argentina = 46044703 / 257\n",
    "\n",
    "#Hacemos un for loop para iterar sobre el diccionario dict_provincias\n",
    "#el dict  contiene el nombre de cada provincia y su respectivo valor de ciudadanos por representante.\n",
    "\n",
    "###LA LOGICA DEL FOR###\n",
    "# Si el valor es < que argentina, la provincia está subrepresentada.\n",
    "#Si el valor es > que argentina, la provincia está sobrerepresentada.\n",
    "#Si el valor es = a argentina, la provincia tiene representación proporcional. \n",
    "\n",
    "#determinar la provincia con mayor sobrerepresentación \n",
    "#en el for se compara cada valor de las provincias sobrerepresentadas\n",
    "#Si el valor es mayor que el almacenado en mayor_sobrerepresentacion\n",
    "#se actualiza el valor y el nombre de la provincia.\n",
    "#para eso creamos una variable vacía (\"none\") que se va a ir cambiando el valor con la provincia correspondiente\n",
    "\n",
    "# Creamos dos variables para almacenar el valor de la provincia con mayor sobrerepresentación\n",
    "mayor_sobrerepresentacion = None\n",
    "    #usamos none como valor inicial para no asignar valor inicial para la comparación en el for\n",
    "provincia_mayor_sobrerepresentacion = \"\"\n",
    "\n",
    "# Iteramos sobre el diccionario\n",
    "for provincia, valor in dict_provincias.items():\n",
    "    # Comparación del valor de cada provincia con el valor de proporcionalidad directa\n",
    "    if valor < argentina:\n",
    "        print(f\"{provincia} está subrepresentada.\")\n",
    "    elif valor > argentina:\n",
    "        print(f\"{provincia} está sobrerepresentada.\")\n",
    "        \n",
    "        # Comprobamos si es la provincia con mayor sobrerepresentación\n",
    "        #Si una provincia está sobrerepresentada, \n",
    "        #comprueba si tiene la mayor sobrerepresentación encontrada hasta ahora.\n",
    "        #Almacenamos la provincia con mayor sobrerepresentación y su valor \n",
    "        #para ser utilizada al final del loop.\n",
    "        if mayor_sobrerepresentacion is None or valor > mayor_sobrerepresentacion:\n",
    "            mayor_sobrerepresentacion = valor\n",
    "            provincia_mayor_sobrerepresentacion = provincia\n",
    "    else:\n",
    "        print(f\"{provincia} tiene representación proporcional.\")\n",
    "\n",
    "# Imprimimos la provincia con mayor sobrerepresentación\n",
    "print(f\"La provincia con mayor sobrerepresentación es {provincia_mayor_sobrerepresentacion} con un valor de {mayor_sobrerepresentacion}.\")"
   ]
  },
  {
   "cell_type": "markdown",
   "metadata": {
    "id": "GokZe5tV-c9z"
   },
   "source": [
    "#### Ejercicio 10\n",
    "Si buscáramos minimizar la subrepresentación de la provincia de Buenos Aires, ¿cuántos representantes debería tener según el Censo 2022? Usemos el mismo criterio de sub/sobrerepresentacion que en el ejercicio anterior: población sobre cantidad de representantes.\n",
    "\n",
    "Para responder esta pregunta construyan un while loop que incremente de a uno la cantidad de representantes de la Provincia hasta minimizar la subrepresentación. En cada iteración impriman un cartel que diga: \"Se agregó un representante, el total ahora es X\" dónde X es el número de representantes simulado."
   ]
  },
  {
   "cell_type": "code",
   "execution_count": 58,
   "metadata": {
    "id": "x9DvuXa_-c9z"
   },
   "outputs": [],
   "source": [
    "# Estos son los valores de la provincia\n",
    "representantes_pba = 70\n",
    "poblacion2010_pba = 17594428\n",
    "\n",
    "\n",
    "# Y el valor de referencia nacional\n",
    "argentina = 46044703 / 257\n"
   ]
  },
  {
   "cell_type": "code",
   "execution_count": 59,
   "metadata": {},
   "outputs": [
    {
     "name": "stdout",
     "output_type": "stream",
     "text": [
      "Se agregó un representante, el total ahora es 71\n",
      "Se agregó un representante, el total ahora es 72\n",
      "Se agregó un representante, el total ahora es 73\n",
      "Se agregó un representante, el total ahora es 74\n",
      "Se agregó un representante, el total ahora es 75\n",
      "Se agregó un representante, el total ahora es 76\n",
      "Se agregó un representante, el total ahora es 77\n",
      "Se agregó un representante, el total ahora es 78\n",
      "Se agregó un representante, el total ahora es 79\n",
      "Se agregó un representante, el total ahora es 80\n",
      "Se agregó un representante, el total ahora es 81\n",
      "Se agregó un representante, el total ahora es 82\n",
      "Se agregó un representante, el total ahora es 83\n",
      "Se agregó un representante, el total ahora es 84\n",
      "Se agregó un representante, el total ahora es 85\n",
      "Se agregó un representante, el total ahora es 86\n",
      "Se agregó un representante, el total ahora es 87\n",
      "Se agregó un representante, el total ahora es 88\n",
      "Se agregó un representante, el total ahora es 89\n",
      "Se agregó un representante, el total ahora es 90\n",
      "Se agregó un representante, el total ahora es 91\n",
      "Se agregó un representante, el total ahora es 92\n",
      "Se agregó un representante, el total ahora es 93\n",
      "Se agregó un representante, el total ahora es 94\n",
      "Se agregó un representante, el total ahora es 95\n",
      "Se agregó un representante, el total ahora es 96\n",
      "Se agregó un representante, el total ahora es 97\n",
      "Se agregó un representante, el total ahora es 98\n",
      "Se agregó un representante, el total ahora es 99\n",
      "Para minimizar la subrepresentación, la provincia de Buenos Aires debería tener 99 representantes.\n"
     ]
    }
   ],
   "source": [
    "# Resolver acá\n",
    "##incremente la cantidad de representantes de la Provincia de Buenos Aires \n",
    "#hasta que su representación sea al menos igual a la proporcionalidad directa nacional\n",
    "\n",
    "# Estos son los valores de la provincia\n",
    "representantes_pba = 70  # Cantidad inicial de representantes\n",
    "poblacion_pba = 17594428  # Población de Buenos Aires según el Censo 2022\n",
    "\n",
    "# Valor de referencia nacional\n",
    "argentina = 46044703 / 257  # Ciudadanos por representante a nivel nacional\n",
    "#Este valor representa el número de ciudadanos por representante a nivel nacional\n",
    "\n",
    "#el número de ciudadanos por representante en Buenos Aires\n",
    "ciudadanos_por_representante_pba = poblacion_pba / representantes_pba\n",
    "#Calcula cuántos ciudadanos representa cada representante en la Provincia de Buenos Aires.\n",
    "#Se obtiene dividiendo la población de Buenos Aires (poblacion_pba) por su número actual de representantes (representantes_pba)\n",
    "\n",
    "# While loop para minimizar la subrepresentación\n",
    "#El ciclo continúa ejecutándose mientras el número de ciudadanos por representante en Buenos Aires sea mayor que\n",
    "#el número de ciudadanos por representante a nivel nacional (argentina)\n",
    "while ciudadanos_por_representante_pba > argentina:\n",
    "    representantes_pba += 1  #Incrementa el número de representantes en 1 en cada ciclo de la iteración del while \n",
    "    ciudadanos_por_representante_pba = poblacion_pba / representantes_pba  #recalcula el número de ciudadanos \n",
    "    #por representante en Buenos Aires después de agregar un representante\n",
    "    print(f\"Se agregó un representante, el total ahora es {representantes_pba}\")\n",
    "\n",
    "#Una vez que la condición del ciclo while deja de cumplirse \n",
    "#se imprime el número total de representantes que Buenos Aires debería tener para alcanzar la proporcionalidad directa nacional\n",
    "# resultado final\n",
    "print(f\"Para minimizar la subrepresentación, la provincia de Buenos Aires debería tener {representantes_pba} representantes.\")\n"
   ]
  }
 ],
 "metadata": {
  "anaconda-cloud": {},
  "colab": {
   "name": "TP1 - Parte 1.ipynb",
   "provenance": []
  },
  "kernelspec": {
   "display_name": "Python 3 (ipykernel)",
   "language": "python",
   "name": "python3"
  },
  "language_info": {
   "codemirror_mode": {
    "name": "ipython",
    "version": 3
   },
   "file_extension": ".py",
   "mimetype": "text/x-python",
   "name": "python",
   "nbconvert_exporter": "python",
   "pygments_lexer": "ipython3",
   "version": "3.12.4"
  }
 },
 "nbformat": 4,
 "nbformat_minor": 4
}
